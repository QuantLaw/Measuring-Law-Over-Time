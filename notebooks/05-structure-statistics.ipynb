{
 "cells": [
  {
   "cell_type": "markdown",
   "metadata": {},
   "source": [
    "# Results section 3: profiles\n",
    "## Tracking individual units of law over time"
   ]
  },
  {
   "cell_type": "markdown",
   "metadata": {},
   "source": [
    "### Preparations"
   ]
  },
  {
   "cell_type": "code",
   "execution_count": 1,
   "metadata": {
    "execution": {
     "iopub.execute_input": "2021-03-07T12:46:11.938764Z",
     "iopub.status.busy": "2021-03-07T12:46:11.937787Z",
     "iopub.status.idle": "2021-03-07T12:46:11.941022Z",
     "shell.execute_reply": "2021-03-07T12:46:11.941532Z"
    }
   },
   "outputs": [],
   "source": [
    "%run fix_notebook_imports.py"
   ]
  },
  {
   "cell_type": "code",
   "execution_count": 2,
   "metadata": {
    "execution": {
     "iopub.execute_input": "2021-03-07T12:46:11.946794Z",
     "iopub.status.busy": "2021-03-07T12:46:11.946097Z",
     "iopub.status.idle": "2021-03-07T12:46:13.418745Z",
     "shell.execute_reply": "2021-03-07T12:46:13.419156Z"
    }
   },
   "outputs": [],
   "source": [
    "import textwrap\n",
    "import re\n",
    "\n",
    "import numpy as np\n",
    "import pandas as pd\n",
    "import networkx as nx\n",
    "import seaborn as sns\n",
    "import matplotlib.pyplot as plt\n",
    "\n",
    "from quantlaw.utils.files import list_dir\n",
    "\n",
    "from analysis.statics import YEARS, COUNTRIES\n",
    "from analysis.utils import get_crossreference_path, get_node_and_edge_files, get_preprocessed_graph_path, get_preprocessed_graph_files"
   ]
  },
  {
   "cell_type": "code",
   "execution_count": 3,
   "metadata": {
    "execution": {
     "iopub.execute_input": "2021-03-07T12:46:13.423488Z",
     "iopub.status.busy": "2021-03-07T12:46:13.422558Z",
     "iopub.status.idle": "2021-03-07T12:46:13.424913Z",
     "shell.execute_reply": "2021-03-07T12:46:13.425737Z"
    }
   },
   "outputs": [],
   "source": [
    "plt.rcParams['figure.figsize'] = (16,16)\n",
    "sns.set_style(\"whitegrid\")"
   ]
  },
  {
   "cell_type": "code",
   "execution_count": 4,
   "metadata": {
    "execution": {
     "iopub.execute_input": "2021-03-07T12:46:13.434878Z",
     "iopub.status.busy": "2021-03-07T12:46:13.434067Z",
     "iopub.status.idle": "2021-03-07T12:46:13.436490Z",
     "shell.execute_reply": "2021-03-07T12:46:13.437160Z"
    }
   },
   "outputs": [],
   "source": [
    "def create_responsibility_graph(ego_node, qG_weighted_edges, threshold=0.05):\n",
    "    responsibility_graph = nx.OrderedGraph()\n",
    "    ego_edges = [(u,v,int(w)) for (u,v,w) in [(x.u,x.v,x.weight) for x in qG_weighted_edges.query(\"v == @ego_node\").itertuples()]]\n",
    "    cutoff = np.quantile(np.array(list(map(lambda x: x[-1], ego_edges))),threshold) if ego_edges else 0.\n",
    "    responsibility_graph.add_weighted_edges_from(list(filter(lambda e:e[-1] >= cutoff, ego_edges)))\n",
    "    return responsibility_graph\n",
    "\n",
    "def create_reliance_graph(ego_node, qG_weighted_edges,threshold=0.05):\n",
    "    responsibility_graph = nx.OrderedGraph()\n",
    "    ego_edges = [(u,v,int(w)) for (u,v,w) in [(x.u,x.v,x.weight) for x in qG_weighted_edges.query(\"u == @ego_node\").itertuples()]]\n",
    "    cutoff = np.quantile(np.array(list(map(lambda x: x[-1], ego_edges))),threshold) if ego_edges else 0.\n",
    "    responsibility_graph.add_weighted_edges_from(list(filter(lambda e:e[-1] >= cutoff, ego_edges)))\n",
    "    return responsibility_graph"
   ]
  },
  {
   "cell_type": "code",
   "execution_count": 5,
   "metadata": {
    "execution": {
     "iopub.execute_input": "2021-03-07T12:46:13.456303Z",
     "iopub.status.busy": "2021-03-07T12:46:13.454808Z",
     "iopub.status.idle": "2021-03-07T12:46:13.457772Z",
     "shell.execute_reply": "2021-03-07T12:46:13.458378Z"
    }
   },
   "outputs": [],
   "source": [
    "def get_edge_color(u,v,nodes,node,graph_type):\n",
    "    if v == node:\n",
    "        u,v = v,u\n",
    "    assert u == node\n",
    "    u_type = nodes.at[u,'document_type']\n",
    "    v_type = nodes.at[v,'document_type']\n",
    "    if u_type == 'statute' == v_type:\n",
    "        return 'k'\n",
    "    elif u_type == 'regulation' == v_type:\n",
    "        return 'b'\n",
    "    else:\n",
    "        if graph_type == 'responsibility' and u_type == 'statute' or graph_type == 'reliance' and u_type == 'regulation':\n",
    "            return 'dodgerblue'\n",
    "        elif graph_type in ['responsibility','reliance']:\n",
    "            return 'silver'\n",
    "        else: \n",
    "            raise\n",
    "\n",
    "def get_labels_us(r_graph, nodes, document_type, node):\n",
    "    return {n:textwrap.fill(nodes.at[n,'law_name'].split(\"-\")[0].split(\" \")[-1]\n",
    "            +\"/\"+re.sub(\"—\", \"-\", re.sub(\"&ndash;\", \"_\", nodes.at[n,'heading'])).split(\"-\")[0].split(\" \")[-1],10)\n",
    "            for n in r_graph.nodes() \n",
    "            if nodes.at[n,'document_type'] == document_type and n != node}\n",
    "\n",
    "def get_labels_de(r_graph, nodes, document_type, node):\n",
    "    return {n:textwrap.fill(nodes.at[n,'abbr_1'],10) if not pd.isna(nodes.at[n,'abbr_1']) \n",
    "            else textwrap.fill(nodes[(nodes.law_name == nodes.at[n,'law_name']) & ~ pd.isna(nodes.abbr_1)].iloc[0].abbr_1 + \"/\" \n",
    "            + \" \".join(nodes.at[n,'heading'].split(\" \")[:2]),10)\n",
    "            for n in r_graph.nodes() \n",
    "            if nodes.at[n,'document_type'] == document_type and n != node}\n",
    "            \n",
    "def draw_graph(r_graph, nodes, node, graph_type='responsibility', node_name=None, labels=None, save_path=None):\n",
    "    pos = nx.circular_layout(r_graph, center=(0,0), dim=2)\n",
    "    pos[node] = (0,0)\n",
    "    edge_colors = [get_edge_color(u,v,nodes,node,graph_type) for u,v in r_graph.edges()]\n",
    "    node_sizes = [min(nodes.at[n,'tokens_n']/100,2000) for n in r_graph.nodes()]\n",
    "    nx.draw_networkx_nodes(r_graph, pos=pos, nodelist=r_graph.nodes(), \n",
    "                           node_size=node_sizes,\n",
    "                           node_color='silver'\n",
    "                          )\n",
    "    nx.draw_networkx_edges(r_graph, pos=pos, edgelist=r_graph.edges(), arrows=True,\n",
    "                           width=[w/10 for u,v,w in r_graph.edges(data='weight')],\n",
    "                           nodelist=r_graph.nodes(), edge_color=edge_colors,\n",
    "                           node_size=node_sizes\n",
    "                          )\n",
    "    if labels:\n",
    "        if country == 'us':\n",
    "            sta_labels = get_labels_us(r_graph, nodes, document_type='statute', node=node)\n",
    "            reg_labels = get_labels_us(r_graph, nodes, document_type='regulation', node=node)\n",
    "            nx.draw_networkx_labels(r_graph, pos=pos, font_color='b', \n",
    "                                    labels=reg_labels)\n",
    "            nx.draw_networkx_labels(r_graph, pos=pos, font_color='k', \n",
    "                                    labels=sta_labels)\n",
    "        else: # \"de\"\n",
    "            sta_labels = get_labels_de(r_graph, nodes, document_type='statute', node=node)\n",
    "            reg_labels = get_labels_de(r_graph, nodes, document_type='regulation', node=node)\n",
    "            nx.draw_networkx_labels(r_graph, pos=pos, font_color='b', labels=reg_labels)\n",
    "            nx.draw_networkx_labels(r_graph, pos=pos, font_color='k', labels=sta_labels)\n",
    "        # draw label of central node\n",
    "        if graph_type == 'responsibility':\n",
    "            nx.draw_networkx_labels(r_graph, pos=pos, font_color='g', \n",
    "                                    labels={node:node_name if node_name is not None else nodes.at[node,'abbr_1']}, font_size=20)\n",
    "        elif graph_type == 'reliance':\n",
    "            nx.draw_networkx_labels(r_graph, pos=pos, font_color='r', \n",
    "                                    labels={node:node_name if node_name is not None else nodes.at[node,'abbr_1']}, font_size=20)\n",
    "        else:\n",
    "            raise\n",
    "    plt.axis('off')\n",
    "    plt.tight_layout()\n",
    "    if save_path is not None:\n",
    "        plt.savefig(save_path)\n",
    "        plt.close()"
   ]
  },
  {
   "cell_type": "code",
   "execution_count": 6,
   "metadata": {
    "execution": {
     "iopub.execute_input": "2021-03-07T12:46:13.474522Z",
     "iopub.status.busy": "2021-03-07T12:46:13.473347Z",
     "iopub.status.idle": "2021-03-07T12:46:13.476725Z",
     "shell.execute_reply": "2021-03-07T12:46:13.476189Z"
    }
   },
   "outputs": [],
   "source": [
    "def plot_profile(sdf, years, save_path=None):\n",
    "    group1 = ['reliance_diversity_n', 'responsibility_diversity_n']\n",
    "    group2 = ['self_loops_n','reliance_n','responsibility_n']\n",
    "    group3 = ['tokens_n','tokens_unique']\n",
    "    fig,ax = plt.subplots(2,5,figsize=(50,10), sharex=True)\n",
    "    ticklabelfontsize = 50\n",
    "    for title, attr, axis in zip(\n",
    "        [\"Tokens\", \"Unique Tokens\",  # group 3\n",
    "         \"Items above Section Level\", \"Items on Section Level\", \"Items below Section Level\"],  # group 2\n",
    "        ['tokens_n','tokens_unique',  # group 3\n",
    "         'items_n','seqitems_n','subseqitems_n'],  # group 2\n",
    "        [ax[0,x] for x in range(5)]):\n",
    "        sdf.plot.line(x='year',y=attr, ax=axis,color='k',xticks=years,marker='o',legend=False, lw=5, markersize=10)\n",
    "        axis.set_ylabel(\"\", fontsize=16)\n",
    "        axis.set_title(title, fontsize=ticklabelfontsize-4)\n",
    "        axis.set_ylim(0,np.ceil(axis.get_ylim()[-1])+0.05*sdf[attr].max())\n",
    "        axis.set_xlim(1996,2021)\n",
    "        if attr in group3:\n",
    "            axis.set_ylim(0,np.ceil(sdf[group3].max().max()+sdf[group3].max().max()*0.05))\n",
    "        axis.set_yticks(axis.get_yticks()[::3])\n",
    "        axis.set_yticklabels([int(x) if x < 1000 else (str(int(round(x/1000,1)))+\"K\" if x%1000 == 0 else str(round(x/1000,1))+\"K\") for x in axis.get_yticks()], fontsize=ticklabelfontsize)\n",
    "    for title, attr, axis in zip(\n",
    "        [\"Self-Loops\", \"Weighted Out-Degree\", \"Weighted In-Degree\", \"Binary Out-Degree\", \"Binary In-Degree\"],\n",
    "        ['self_loops_n','reliance_n','responsibility_n','reliance_diversity_n','responsibility_diversity_n'],\n",
    "        [ax[1,x] for x in range(5)]):\n",
    "        sdf.plot.line(x='year',y=attr, ax=axis,color='k',xticks=years,marker='o',legend=False, lw=5, markersize=10)\n",
    "        axis.set_ylabel(\"\", fontsize=16)\n",
    "        axis.set_title(title, fontsize=ticklabelfontsize-4) \n",
    "        if attr in group1:\n",
    "            axis.set_ylim(0,np.ceil(sdf[group1].max().max()+sdf[group1].max().max()*0.05))\n",
    "        elif attr in group2:\n",
    "            axis.set_ylim(0,np.ceil(sdf[group2].max().max()+sdf[group2].max().max()*0.05))\n",
    "        else:\n",
    "            axis.set_ylim(0,np.ceil(axis.get_ylim()[-1]))\n",
    "        axis.set_xlabel('',fontsize=ticklabelfontsize)\n",
    "        axis.set_xticks(years[::7])\n",
    "        axis.set_xticklabels(axis.get_xticks(), rotation=0, fontsize=ticklabelfontsize)\n",
    "        axis.set_yticks(axis.get_yticks()[::3])\n",
    "        axis.set_yticklabels([int(x) if x < 1000 else (str(int(round(x/1000,1)))+\"K\" if x%1000 == 0 else str(round(x/1000,1))+\"K\") for x in axis.get_yticks()], fontsize=ticklabelfontsize)\n",
    "    plt.tight_layout()\n",
    "    if save_path is not None:\n",
    "        plt.savefig(save_path)\n",
    "        plt.close()"
   ]
  },
  {
   "cell_type": "code",
   "execution_count": 7,
   "metadata": {
    "execution": {
     "iopub.execute_input": "2021-03-07T12:46:13.485487Z",
     "iopub.status.busy": "2021-03-07T12:46:13.484709Z",
     "iopub.status.idle": "2021-03-07T12:46:13.487506Z",
     "shell.execute_reply": "2021-03-07T12:46:13.488078Z"
    }
   },
   "outputs": [],
   "source": [
    "def generate_ego_nodes_from_queries(queries, country, years):\n",
    "    crossreference_path = get_crossreference_path(country)\n",
    "    nodefiles,edgefiles = get_node_and_edge_files(crossreference_path, years)\n",
    "    ego_nodes = {abbr:{} for (abbr,q) in queries}\n",
    "    for year in years:\n",
    "        print(\"Generating ego nodes for year\", year, end='\\r')\n",
    "        nf = nodefiles[years.index(year)]\n",
    "        if country == 'us':\n",
    "            indices_to_skip = pd.read_csv(f\"{crossreference_path}/{nf}\", low_memory=True, usecols=['heading']).query(\"@pd.isna(heading)\").index.values + 1\n",
    "            nodes = pd.read_csv(f\"{crossreference_path}/{nf}\", low_memory=True, usecols=['key','law_name', 'heading'], skiprows=indices_to_skip).set_index(\"key\")\n",
    "        else: # 'de'\n",
    "            indices_to_skip = pd.read_csv(f\"{crossreference_path}/{nf}\", low_memory=True, usecols=['abbr_1']).query(\"@pd.isna(abbr_1)\").index.values + 1\n",
    "            nodes = pd.read_csv(f\"{crossreference_path}/{nf}\", low_memory=True, usecols=['key','abbr_1', 'abbr_2', 'type'], skiprows=indices_to_skip).set_index(\"key\")\n",
    "        for abbr,q in queries:\n",
    "            ego_nodes[abbr][year] = nodes.query(q).index.values\n",
    "    for k,v in ego_nodes.items():\n",
    "        ego_nodes[k] = {k2:v[0] for k2,v in ego_nodes[k].items() if v.size > 0}\n",
    "    return ego_nodes"
   ]
  },
  {
   "cell_type": "markdown",
   "metadata": {},
   "source": [
    "### Network graphics for selected laws (this takes circa 5 minutes)"
   ]
  },
  {
   "cell_type": "code",
   "execution_count": 8,
   "metadata": {
    "execution": {
     "iopub.execute_input": "2021-03-07T12:46:13.499180Z",
     "iopub.status.busy": "2021-03-07T12:46:13.498220Z",
     "iopub.status.idle": "2021-03-07T12:57:48.354996Z",
     "shell.execute_reply": "2021-03-07T12:57:48.362070Z"
    }
   },
   "outputs": [
    {
     "name": "stdout",
     "output_type": "stream",
     "text": [
      "Plotting 2019 BJNR135100007_BörsG-2007_99999999_000001\r"
     ]
    }
   ],
   "source": [
    "node_names = {\n",
    "    'dodd-frank':'Dodd-Frank',\n",
    "    'glb':'Gramm-Leach-Bliley',\n",
    "    'kredwg':'KredWG',\n",
    "    'börsg':'BörsG',\n",
    "    'wphg':'WpHG'\n",
    "}\n",
    "\n",
    "for country in COUNTRIES:\n",
    "    crossreference_path = get_crossreference_path(country)\n",
    "    preprocessed_graph_path = get_preprocessed_graph_path(country)\n",
    "    preprocessed_graph_files = get_preprocessed_graph_files(preprocessed_graph_path, YEARS)\n",
    "    nodefiles, _ = get_node_and_edge_files(crossreference_path, YEARS)\n",
    "    if country == 'us':\n",
    "        queries = [\n",
    "            (\"dodd-frank\",\"law_name.str.contains('TITLE 12') and heading.str.contains('CHAPTER 53')\"),\n",
    "            (\"glb\",\"law_name.str.contains('TITLE 12') and heading.str.contains('CHAPTER 16')\"),\n",
    "        ]\n",
    "    elif country == 'de':\n",
    "        queries = [\n",
    "            (abbr,f\"(abbr_1.str.lower() == '{abbr}' or abbr_2.str.lower() == '{abbr}') and type == 'document'\")\n",
    "            for abbr in [\"wphg\",\"kredwg\",\"börsg\"]\n",
    "        ]\n",
    "    ego_nodes = generate_ego_nodes_from_queries(queries, country, YEARS)\n",
    "    \n",
    "    for abbr,indiv_ego_nodes in ego_nodes.items():\n",
    "        for year, ego_node in indiv_ego_nodes.items():\n",
    "            print(\"Plotting\", year, ego_node, end='\\r')\n",
    "            nf = nodefiles[YEARS.index(year)]\n",
    "            indices_to_skip = pd.read_csv(f\"{crossreference_path}/{nf}\", low_memory=True, usecols=['type']\n",
    "                                         ).query(\"type in ['seqitem','subseqitem']\").index.values + 1\n",
    "            nodes = pd.read_csv(f\"{crossreference_path}/{nf}\", low_memory=True, \n",
    "                                usecols=['key','law_name', 'heading', 'abbr_1', 'document_type', 'type', 'tokens_n'], \n",
    "                                skiprows=indices_to_skip).set_index(\"key\")\n",
    "            \n",
    "            qG = nx.read_gpickle(f\"{preprocessed_graph_path}/{preprocessed_graph_files[YEARS.index(year)]}\")\n",
    "            qG_weighted_edges = pd.DataFrame(qG.edges(keys=True), columns=['u','v','weight']).groupby(['u','v']).count().reset_index()\n",
    "            \n",
    "            responsibility_graph = create_responsibility_graph(ego_node, qG_weighted_edges, threshold=0.0)\n",
    "            reliance_graph = create_reliance_graph(ego_node, qG_weighted_edges, threshold=0.0)\n",
    "            \n",
    "            draw_graph(reliance_graph, nodes, ego_node, graph_type='reliance', node_name=node_names.get(abbr,abbr.upper()), \n",
    "                       save_path=f\"../graphics/evolution/reliance-{country}-{abbr}-{year}.pdf\")\n",
    "            draw_graph(responsibility_graph, nodes, ego_node, graph_type='responsibility', node_name=node_names.get(abbr,abbr.upper()), \n",
    "                       save_path=f\"../graphics/evolution/responsibility-{country}-{abbr}-{year}.pdf\")"
   ]
  },
  {
   "cell_type": "markdown",
   "metadata": {},
   "source": [
    "### Case studies for summaries of individual profiles"
   ]
  },
  {
   "cell_type": "code",
   "execution_count": 9,
   "metadata": {
    "execution": {
     "iopub.execute_input": "2021-03-07T12:57:48.400631Z",
     "iopub.status.busy": "2021-03-07T12:57:48.399720Z",
     "iopub.status.idle": "2021-03-07T12:57:48.401773Z",
     "shell.execute_reply": "2021-03-07T12:57:48.402346Z"
    }
   },
   "outputs": [],
   "source": [
    "profile_path = \"../results/chapter-profiles\"\n",
    "chapter_profiles = [f\"{profile_path}/{f}\" for f in list_dir(profile_path,\".csv\")]"
   ]
  },
  {
   "cell_type": "code",
   "execution_count": 10,
   "metadata": {
    "execution": {
     "iopub.execute_input": "2021-03-07T12:57:48.411266Z",
     "iopub.status.busy": "2021-03-07T12:57:48.410437Z",
     "iopub.status.idle": "2021-03-07T12:57:48.731065Z",
     "shell.execute_reply": "2021-03-07T12:57:48.731618Z"
    }
   },
   "outputs": [],
   "source": [
    "us_profiles = [p for p in chapter_profiles if p.endswith(\"us.csv\")]\n",
    "us_dfs = {int(p.split(\"/\")[-1].split(\"-\")[0]):pd.read_csv(p) for p in us_profiles}"
   ]
  },
  {
   "cell_type": "code",
   "execution_count": 11,
   "metadata": {
    "execution": {
     "iopub.execute_input": "2021-03-07T12:57:48.737666Z",
     "iopub.status.busy": "2021-03-07T12:57:48.736807Z",
     "iopub.status.idle": "2021-03-07T12:57:49.601185Z",
     "shell.execute_reply": "2021-03-07T12:57:49.601978Z"
    }
   },
   "outputs": [],
   "source": [
    "de_profiles = [p for p in chapter_profiles if p.endswith(\"de.csv\")]\n",
    "de_dfs = {int(p.split(\"/\")[-1].split(\"-\")[0]):pd.read_csv(p) for p in de_profiles}"
   ]
  },
  {
   "cell_type": "markdown",
   "metadata": {},
   "source": [
    "### Case study for the United States"
   ]
  },
  {
   "cell_type": "code",
   "execution_count": 12,
   "metadata": {
    "execution": {
     "iopub.execute_input": "2021-03-07T12:57:49.636133Z",
     "iopub.status.busy": "2021-03-07T12:57:49.614692Z",
     "iopub.status.idle": "2021-03-07T12:57:49.787178Z",
     "shell.execute_reply": "2021-03-07T12:57:49.787709Z"
    }
   },
   "outputs": [],
   "source": [
    "chapters = {}\n",
    "for title in set(us_dfs[2019].query(\"document_type == 'regulation'\").law_name.values):\n",
    "    chapters[title] = set(us_dfs[2019].query(\"document_type == 'regulation' and law_name == @title\").heading.values)\n",
    "reg_queries = []\n",
    "for title,chapters in chapters.items():\n",
    "    for chapter in chapters:\n",
    "        title_name = title.split()[-1]\n",
    "        chapter_number = chapter.split(\"—\")[0].split()[-1]\n",
    "        reg_queries.append((f\"{title_name}cfr{chapter_number}\",f'law_name == \"{title}\" and heading.str.startswith(\"{chapter}\") and tokens_n > 0'))\n",
    "reg_queries.sort(key=lambda tup:tup[0])"
   ]
  },
  {
   "cell_type": "code",
   "execution_count": 13,
   "metadata": {
    "execution": {
     "iopub.execute_input": "2021-03-07T12:57:49.952908Z",
     "iopub.status.busy": "2021-03-07T12:57:49.849576Z",
     "iopub.status.idle": "2021-03-07T12:57:50.910326Z",
     "shell.execute_reply": "2021-03-07T12:57:50.911270Z"
    }
   },
   "outputs": [],
   "source": [
    "us_case_study_dfs = []\n",
    "queries = [\n",
    "    (\"dodd-frank\",\"law_name.str.contains('TITLE 12') and heading.str.contains('CHAPTER 53')\"),\n",
    "    (\"glb\",\"law_name.str.contains('TITLE 12') and heading.str.contains('CHAPTER 16')\"),\n",
    "    (\"obamacare\",\"law_name.str.contains('TITLE 42') and heading.str.contains('CHAPTER 157')\"),\n",
    "]\n",
    "for abbr,query in queries + [x for x in reg_queries if x[0] in ['17cfrI','17cfrII']]:\n",
    "    sdf = pd.DataFrame(index=YEARS, columns=us_dfs[1998].columns)\n",
    "    for idx,df in us_dfs.items():\n",
    "        qf = df.query(query)\n",
    "        if len(qf.index) > 0:\n",
    "            sdf.loc[idx] = qf.iloc[0]\n",
    "    if not sdf.key.isna().all():\n",
    "        sdf = sdf.reset_index().rename(dict(index='year'),axis=1)\n",
    "        us_case_study_dfs.append((abbr,sdf))"
   ]
  },
  {
   "cell_type": "code",
   "execution_count": 14,
   "metadata": {
    "execution": {
     "iopub.execute_input": "2021-03-07T12:57:51.013486Z",
     "iopub.status.busy": "2021-03-07T12:57:50.963821Z",
     "iopub.status.idle": "2021-03-07T12:58:00.044883Z",
     "shell.execute_reply": "2021-03-07T12:58:00.043477Z"
    }
   },
   "outputs": [],
   "source": [
    "country = 'us'\n",
    "for abbr, sdf in us_case_study_dfs:\n",
    "    plot_profile(sdf, YEARS, f\"../graphics/evolution/{country}-{abbr}.pdf\")"
   ]
  },
  {
   "cell_type": "markdown",
   "metadata": {},
   "source": [
    "### Case study for Germany"
   ]
  },
  {
   "cell_type": "code",
   "execution_count": 15,
   "metadata": {
    "execution": {
     "iopub.execute_input": "2021-03-07T12:58:00.051769Z",
     "iopub.status.busy": "2021-03-07T12:58:00.050653Z",
     "iopub.status.idle": "2021-03-07T12:58:00.063356Z",
     "shell.execute_reply": "2021-03-07T12:58:00.063914Z"
    }
   },
   "outputs": [],
   "source": [
    "de_capm = pd.read_csv(\"../supplements/KapmR2019content.csv\")\n",
    "de_bank = pd.read_csv(\"../supplements/BankR2020content.csv\")\n",
    "de_abbreviations = [x.lower() for x in list(pd.concat([de_capm,de_bank]).dropna(\n",
    ").set_index('abbreviation').drop_duplicates().sort_index().index.values)]"
   ]
  },
  {
   "cell_type": "code",
   "execution_count": 16,
   "metadata": {
    "execution": {
     "iopub.execute_input": "2021-03-07T12:58:00.192912Z",
     "iopub.status.busy": "2021-03-07T12:58:00.116532Z",
     "iopub.status.idle": "2021-03-07T12:58:00.194841Z",
     "shell.execute_reply": "2021-03-07T12:58:00.195472Z"
    }
   },
   "outputs": [],
   "source": [
    "for df in de_dfs.values():\n",
    "    df['abbr'] = [x.split(\"_\")[1].split(\"-\")[0].lower() for x in df.key]"
   ]
  },
  {
   "cell_type": "code",
   "execution_count": 17,
   "metadata": {
    "execution": {
     "iopub.execute_input": "2021-03-07T12:58:00.207838Z",
     "iopub.status.busy": "2021-03-07T12:58:00.207019Z",
     "iopub.status.idle": "2021-03-07T12:58:00.225495Z",
     "shell.execute_reply": "2021-03-07T12:58:00.226036Z"
    }
   },
   "outputs": [
    {
     "data": {
      "text/plain": [
       "{'anlentg', 'depotg', 'finarisikov', 'prospv', 'wechselg', 'wpav'}"
      ]
     },
     "execution_count": 1,
     "metadata": {},
     "output_type": "execute_result"
    }
   ],
   "source": [
    "set(de_abbreviations) - set(de_dfs[2019].query(\"abbr in @de_abbreviations\").abbr.values)"
   ]
  },
  {
   "cell_type": "code",
   "execution_count": 18,
   "metadata": {
    "execution": {
     "iopub.execute_input": "2021-03-07T12:58:00.270980Z",
     "iopub.status.busy": "2021-03-07T12:58:00.236431Z",
     "iopub.status.idle": "2021-03-07T12:58:04.001594Z",
     "shell.execute_reply": "2021-03-07T12:58:04.002127Z"
    }
   },
   "outputs": [],
   "source": [
    "de_case_study_dfs = []\n",
    "for abbr in de_abbreviations:\n",
    "    abbr_file = abbr # + \"-Buch-5\" # when treating German laws with books, remember to also change the iloc from 0 to something else\n",
    "    sdf = pd.DataFrame(index=YEARS, columns=de_dfs[1998].columns)\n",
    "    for idx,df in de_dfs.items():\n",
    "        qf = df.query(\"abbr == @abbr\")\n",
    "        if len(qf.index) > 0:\n",
    "            sdf.loc[idx] = qf.iloc[0]\n",
    "    if not sdf.key.isna().all():\n",
    "        sdf = sdf.reset_index().rename(dict(index='year'),axis=1)\n",
    "        de_case_study_dfs.append((abbr,sdf))"
   ]
  },
  {
   "cell_type": "code",
   "execution_count": 19,
   "metadata": {
    "execution": {
     "iopub.execute_input": "2021-03-07T12:58:04.094763Z",
     "iopub.status.busy": "2021-03-07T12:58:04.064394Z",
     "iopub.status.idle": "2021-03-07T12:59:40.537184Z",
     "shell.execute_reply": "2021-03-07T12:59:40.537683Z"
    }
   },
   "outputs": [],
   "source": [
    "country = 'de'\n",
    "for abbr, sdf in de_case_study_dfs:\n",
    "    plot_profile(sdf, YEARS, f\"../graphics/evolution/{country}-{abbr}.pdf\")"
   ]
  },
  {
   "cell_type": "markdown",
   "metadata": {},
   "source": [
    "### The end."
   ]
  }
 ],
 "metadata": {
  "kernelspec": {
   "display_name": "Python 3",
   "language": "python",
   "name": "python3"
  },
  "language_info": {
   "codemirror_mode": {
    "name": "ipython",
    "version": 3
   },
   "file_extension": ".py",
   "mimetype": "text/x-python",
   "name": "python",
   "nbconvert_exporter": "python",
   "pygments_lexer": "ipython3",
   "version": "3.8.7"
  }
 },
 "nbformat": 4,
 "nbformat_minor": 4
}
