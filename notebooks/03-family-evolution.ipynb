{
 "cells": [
  {
   "cell_type": "markdown",
   "metadata": {},
   "source": [
    "# Results section 2: connectivity\n",
    "## Meso \\-level connectivity"
   ]
  },
  {
   "cell_type": "markdown",
   "metadata": {},
   "source": [
    "### Preparations"
   ]
  },
  {
   "cell_type": "code",
   "execution_count": 1,
   "metadata": {
    "execution": {
     "iopub.execute_input": "2021-03-07T12:45:29.721948Z",
     "iopub.status.busy": "2021-03-07T12:45:29.721083Z",
     "iopub.status.idle": "2021-03-07T12:45:29.724072Z",
     "shell.execute_reply": "2021-03-07T12:45:29.724567Z"
    }
   },
   "outputs": [],
   "source": [
    "%run fix_notebook_imports.py"
   ]
  },
  {
   "cell_type": "code",
   "execution_count": 2,
   "metadata": {
    "execution": {
     "iopub.execute_input": "2021-03-07T12:45:29.729574Z",
     "iopub.status.busy": "2021-03-07T12:45:29.728810Z",
     "iopub.status.idle": "2021-03-07T12:45:30.533619Z",
     "shell.execute_reply": "2021-03-07T12:45:30.534130Z"
    }
   },
   "outputs": [],
   "source": [
    "import textwrap\n",
    "import numpy as np\n",
    "import pandas as pd\n",
    "import matplotlib.pyplot as plt\n",
    "import seaborn as sns\n",
    "from tabulate import tabulate\n",
    "\n",
    "from analysis.statics import COUNTRIES, YEARS"
   ]
  },
  {
   "cell_type": "code",
   "execution_count": 3,
   "metadata": {
    "execution": {
     "iopub.execute_input": "2021-03-07T12:45:30.538708Z",
     "iopub.status.busy": "2021-03-07T12:45:30.537820Z",
     "iopub.status.idle": "2021-03-07T12:45:30.539963Z",
     "shell.execute_reply": "2021-03-07T12:45:30.540410Z"
    }
   },
   "outputs": [],
   "source": [
    "sns.set_style('whitegrid')\n",
    "plt.rcParams['font.size'] = 30"
   ]
  },
  {
   "cell_type": "code",
   "execution_count": 4,
   "metadata": {
    "execution": {
     "iopub.execute_input": "2021-03-07T12:45:30.600415Z",
     "iopub.status.busy": "2021-03-07T12:45:30.599398Z",
     "iopub.status.idle": "2021-03-07T12:45:30.601238Z",
     "shell.execute_reply": "2021-03-07T12:45:30.601733Z"
    }
   },
   "outputs": [],
   "source": [
    "def get_growth_fractions(largest_family_volumes, labels):\n",
    "    growth_fractions = pd.DataFrame(columns=['label', 'total','statute','statute_fraction','regulation','regulation_fraction','category','majority'])\n",
    "    for family in labels.index:\n",
    "        total_growth = largest_family_volumes.loc[family].loc[2019].sum() - largest_family_volumes.loc[family].loc[1998].sum()\n",
    "        sta_growth = largest_family_volumes.loc[family].loc[2019].statute - largest_family_volumes.loc[family].loc[1998].statute\n",
    "        reg_growth = largest_family_volumes.loc[family].loc[2019].regulation - largest_family_volumes.loc[family].loc[1998].regulation\n",
    "        sta_growth_rel = round(sta_growth / total_growth,2)\n",
    "        reg_growth_rel = round(reg_growth / total_growth,2)\n",
    "        growth_fractions.loc[family] = [labels.at[family,'label'], total_growth, \n",
    "                                        sta_growth, sta_growth_rel, \n",
    "                                        reg_growth, reg_growth_rel,\n",
    "                                        'S' if sta_growth_rel >= 0.8 else ('R' if reg_growth_rel >= 0.8 else 'M'),\n",
    "                                        'S' if sta_growth_rel > reg_growth_rel else ('R' if reg_growth_rel > sta_growth_rel else 'M')\n",
    "                                       ]\n",
    "    return growth_fractions\n",
    "\n",
    "def get_average_composition(largest_family_volumes, labels):\n",
    "    df = pd.DataFrame((largest_family_volumes.loc[x].statute / (largest_family_volumes.loc[x].regulation + largest_family_volumes.loc[x].statute)).describe()[1:] for x in labels.index)\n",
    "    df = df.round(2)\n",
    "    df['category'] = ['S' if x >= 0.8 else ('R' if x <= 0.2 else 'M') for x in df['mean']]\n",
    "    df['majority'] = ['S' if x > 0.5 else ('R' if x < 0.5 else 'M') for x in df['mean']]\n",
    "    df['label'] = labels.label.values\n",
    "    return df[[df.columns[-1],*df.columns[:-1]]]\n",
    "\n",
    "def plot_family_composition_absolute(largest_families, largest_family_volumes, labels, save_path=None):\n",
    "    fig, ax = plt.subplots(2,5,figsize=(5*5,2*5.5),sharey=True,sharex=True)\n",
    "    for idx,comm in enumerate(largest_families):\n",
    "        x, y = divmod(idx,5)\n",
    "        single_community_df = largest_family_volumes.loc[comm].sort_index(ascending=False)\n",
    "        single_community_df.index = map(str, single_community_df.index) # Fix that order of bars in plot is identical to order in DataFrame\n",
    "        single_community_df[[\"statute\",\"regulation\"]].plot.barh(ax=ax[x,y], stacked=True, color=['k','b'], use_index=False,\n",
    "            title=textwrap.fill(labels.at[comm, \"label\"], 20) if comm in labels.index and not pd.isna(labels.at[comm, \"label\"]) else str(int(comm)),\n",
    "            legend=False,width=1,linewidth=0.1,alpha=0.5)\n",
    "        yticks = [item for sublist in [[str(x),\"\",\"\"] for x in YEARS[::3]] for item in sublist]\n",
    "        ax[x,y].yaxis.set_ticks(yticks)\n",
    "        ax[x,y].yaxis.set_ticklabels(yticks)\n",
    "        ax[x,y].title.set_size(30)\n",
    "        ax[x,y].tick_params(axis='both', which='major', labelsize=30)\n",
    "        if country == 'de':\n",
    "            ax[x,y].xaxis.set_ticks([0,0.5e6,1.0e6])\n",
    "            ax[x,y].xaxis.set_ticklabels([0,0.5,str(1.0)+\" e6\"])\n",
    "            ax[x,y].set_xlim(0,1.1e6)\n",
    "        else:\n",
    "            ax[x,y].xaxis.set_ticks([0,0.5e7,1.0e7,1.5e7])\n",
    "            ax[x,y].xaxis.set_ticklabels([0,0.5,1.0,str(1.5)+\" e7\"])\n",
    "            ax[x,y].set_xlim(0,1.65e7)\n",
    "        ax[x,y].set_ylabel(\"Year\",fontsize=30)\n",
    "        ax[x,y].set_xlabel(\"Number of tokens\",fontsize=30)\n",
    "    plt.tight_layout()\n",
    "    if save_path:\n",
    "        plt.savefig(save_path, transparent=True)\n",
    "        plt.close()\n",
    "        \n",
    "def plot_family_composition_relative(largest_families, largest_family_volumes, labels, save_path=None):\n",
    "    fig, ax = plt.subplots(2,5,figsize=(5*5,2*5.5),sharey=True,sharex=True)\n",
    "    for idx,comm in enumerate(largest_families):\n",
    "        x, y = divmod(idx,5)\n",
    "        single_community_df = largest_family_volumes.loc[comm].sort_index(ascending=False)\n",
    "        single_community_df.index = map(str, single_community_df.index) # Fix that order of bars in plot is identical to order in DataFrame\n",
    "        single_community_df = single_community_df.div(single_community_df.sum(axis=1),axis=0)\n",
    "        single_community_df[[\"statute\",\"regulation\"]].plot.barh(ax=ax[x,y], stacked=True, color=['k','b'],xlim=(0,1),xticks=np.arange(0,1.2,0.2),\n",
    "                                                                use_index=False,\n",
    "            title=textwrap.fill(labels.at[comm, \"label\"], 20) if comm in labels.index and not pd.isna(labels.at[comm, \"label\"]) else str(comm),\n",
    "            legend=False,width=1,linewidth=0.1,alpha=0.5)\n",
    "        yticks = [item for sublist in [[str(x),\"\",\"\"] for x in YEARS[::3]] for item in sublist]\n",
    "        ax[x,y].yaxis.set_ticks(yticks)\n",
    "        ax[x,y].yaxis.set_ticklabels(yticks)\n",
    "        ax[x,y].title.set_size(30)\n",
    "        ax[x,y].tick_params(axis='both', which='major', labelsize=30)\n",
    "        ax[x,y].set_ylabel(\"Year\",fontsize=30)\n",
    "        ax[x,y].set_xlabel(\"Fraction of tokens\",fontsize=30)\n",
    "    plt.tight_layout()\n",
    "    if save_path:\n",
    "        plt.savefig(save_path, transparent=True)\n",
    "        plt.close()"
   ]
  },
  {
   "cell_type": "markdown",
   "metadata": {},
   "source": [
    "### Figures"
   ]
  },
  {
   "cell_type": "code",
   "execution_count": 5,
   "metadata": {
    "execution": {
     "iopub.execute_input": "2021-03-07T12:45:30.609000Z",
     "iopub.status.busy": "2021-03-07T12:45:30.608222Z",
     "iopub.status.idle": "2021-03-07T12:45:40.364890Z",
     "shell.execute_reply": "2021-03-07T12:45:40.365619Z"
    }
   },
   "outputs": [],
   "source": [
    "# The uncommented lines ensure that we don't overwrite already finally styled tables (rules instead of hlines)\n",
    "for country in COUNTRIES:\n",
    "    for n_clusters in [100]:\n",
    "        labels = pd.read_csv(f\"../supplements/cluster-family-labels-new-n{n_clusters}-{country}-filled.csv\").set_index('family')\n",
    "        cluster_family_volumes = pd.read_csv(f\"../results/cluster-family-volumes-{country}-n{n_clusters}.csv\")\n",
    "        largest_families = list(labels.index)\n",
    "        largest_family_volumes = cluster_family_volumes.query(\"family in @largest_families\").drop(\"total\",axis=1).groupby([\"family\",\"year\"]).sum()\n",
    "        growth_fractions = get_growth_fractions(largest_family_volumes, labels)\n",
    "#         with open(f\"../graphics/cluster-family-volumes-growth-{country}-n{n_clusters}.tex\", \"w\") as f:\n",
    "#             f.write(tabulate(growth_fractions, tablefmt='latex_raw', headers=['Family',r'$\\Delta$',\n",
    "#                                                           r'$\\Delta_S$',r'$\\Delta_S/\\Delta$',\n",
    "#                                                           r'$\\Delta_R$',r'$\\Delta_R/\\Delta$','Cat.','Maj.'], showindex=False))\n",
    "        #growth_fractions.to_csv(f\"../results/cluster-family-volumes-growth-{country}-n{n_clusters}.csv\", index=False)\n",
    "        average_compositions = get_average_composition(largest_family_volumes, labels)\n",
    "#         with open(f\"../graphics/cluster-family-volumes-composition-{country}-n{n_clusters}.tex\", \"w\") as f:\n",
    "#             f.write(tabulate(average_compositions, tablefmt='latex_raw', headers=['Family', r'$\\mu$', r'$\\sigma$', r'$\\min$', r'$25~\\%$', r'$50~\\%$', r'$75~\\%$', r'$\\max$',\n",
    "#        'Cat.', 'Maj.'], showindex=False))\n",
    "        #average_compositions.to_csv(f\"../results/cluster-family-volumes-composition-{country}-n{n_clusters}.csv\", index=False)\n",
    "        plot_family_composition_absolute(largest_families, largest_family_volumes, labels, save_path=f\"../graphics/family-composition-absolute-n{n_clusters}-{country}.pdf\")\n",
    "        plot_family_composition_relative(largest_families, largest_family_volumes, labels, save_path=f\"../graphics/family-composition-relative-n{n_clusters}-{country}.pdf\")"
   ]
  },
  {
   "cell_type": "code",
   "execution_count": 6,
   "metadata": {
    "execution": {
     "iopub.execute_input": "2021-03-07T12:45:40.374387Z",
     "iopub.status.busy": "2021-03-07T12:45:40.373666Z",
     "iopub.status.idle": "2021-03-07T12:46:05.726639Z",
     "shell.execute_reply": "2021-03-07T12:46:05.727133Z"
    }
   },
   "outputs": [],
   "source": [
    "path = '../graphics/family-compositions'\n",
    "if not os.path.exists(path):\n",
    "    os.makedirs(path)\n",
    "for country in COUNTRIES:\n",
    "    cluster_family_volumes = pd.read_csv(f\"../results/cluster-family-volumes-{country}-n100.csv\"\n",
    "                                        ).sort_values('total', ascending=False)\n",
    "    for year in YEARS:\n",
    "        year_vols = pd.DataFrame(cluster_family_volumes.query(\"year == @year\").sort_values('total', ascending=False)[:100].fillna(0))\n",
    "        year_vols['statute_percentage'] = year_vols.statute / year_vols.total\n",
    "        year_vols['normalized_total'] = (year_vols.total - year_vols.total.min()\n",
    "                                                    ) / (year_vols.total.max() - year_vols.total.min())\n",
    "        g = sns.jointplot(y='normalized_total', x='statute_percentage', data=year_vols, kind=\"hist\", color='k')\n",
    "        \n",
    "        g.set_axis_labels('Percentage of statute tokens', 'Min-max normalized number of tokens', fontsize=17)\n",
    "        g.ax_joint.set_xticks(np.arange(0,1.01,0.5))\n",
    "        plt.tight_layout()\n",
    "        plt.savefig(f\"{path}/family-hist2d-{country}-{year}.pdf\")\n",
    "        plt.close()"
   ]
  },
  {
   "cell_type": "markdown",
   "metadata": {},
   "source": [
    "### The end."
   ]
  }
 ],
 "metadata": {
  "kernelspec": {
   "display_name": "Python 3",
   "language": "python",
   "name": "python3"
  },
  "language_info": {
   "codemirror_mode": {
    "name": "ipython",
    "version": 3
   },
   "file_extension": ".py",
   "mimetype": "text/x-python",
   "name": "python",
   "nbconvert_exporter": "python",
   "pygments_lexer": "ipython3",
   "version": "3.8.7"
  }
 },
 "nbformat": 4,
 "nbformat_minor": 4
}
