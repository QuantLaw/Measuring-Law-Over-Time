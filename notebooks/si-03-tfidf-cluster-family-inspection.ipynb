{
 "cells": [
  {
   "cell_type": "markdown",
   "metadata": {
    "pycharm": {
     "name": "#%% md\n"
    }
   },
   "source": [
    "## TFIDF Cluster Family Inspection\n",
    "\n",
    "In this notebook, we compute the Term Frequency-Inverse Document Frequency statistics\n",
    "used to validate our cluster family names as reported in the SI.\n",
    "\n",
    "Executing this notebook requires access to the text data contained in the individual clusters,\n",
    "which is not provided in the data accompanying the paper.\n",
    "For the United States, the input data can be computed by running our preprocessing and clustering pipelines on the publicly available XML\n",
    "from the Office of the Law Revision Counsel.\n",
    "For Germany, we cannot make the input data available due to licensing restrictions."
   ]
  },
  {
   "cell_type": "markdown",
   "metadata": {
    "pycharm": {
     "name": "#%% md\n"
    }
   },
   "source": [
    "### Preparations"
   ]
  },
  {
   "cell_type": "code",
   "execution_count": 1,
   "metadata": {
    "execution": {
     "iopub.execute_input": "2021-01-19T22:23:05.262745Z",
     "iopub.status.busy": "2021-01-19T22:23:05.261393Z",
     "iopub.status.idle": "2021-01-19T22:23:08.102814Z",
     "shell.execute_reply": "2021-01-19T22:23:08.103660Z"
    }
   },
   "outputs": [],
   "source": [
    "import networkx as nx\n",
    "from gensim.utils import simple_preprocess\n",
    "from gensim import corpora, models\n",
    "import pandas as pd\n",
    "import multiprocessing\n",
    "\n",
    "from legal_data_clustering.utils.graph_api import cluster_families"
   ]
  },
  {
   "cell_type": "markdown",
   "metadata": {
    "pycharm": {
     "name": "#%% md\n"
    }
   },
   "source": [
    "### Computing the statistics"
   ]
  },
  {
   "cell_type": "code",
   "execution_count": 2,
   "metadata": {
    "execution": {
     "iopub.execute_input": "2021-01-19T22:23:08.111575Z",
     "iopub.status.busy": "2021-01-19T22:23:08.110585Z",
     "iopub.status.idle": "2021-01-19T22:23:08.113152Z",
     "shell.execute_reply": "2021-01-19T22:23:08.113863Z"
    }
   },
   "outputs": [],
   "source": [
    "def load_cluster_families(base_path):\n",
    "    G = nx.read_gpickle(\n",
    "        base_path+'13_cluster_evolution_graph/all_0-0_1-0_-1_a-infomap_n100_m1-0_s0_c1000.gpickle.gz'\n",
    "    )\n",
    "    cluster_families_data = cluster_families(G,threshold=.15)[:50]\n",
    "    leading_clusters = [c[0] for c in cluster_families_data]\n",
    "    return cluster_families_data, leading_clusters"
   ]
  },
  {
   "cell_type": "code",
   "execution_count": 3,
   "metadata": {
    "execution": {
     "iopub.execute_input": "2021-01-19T22:23:08.119895Z",
     "iopub.status.busy": "2021-01-19T22:23:08.119035Z",
     "iopub.status.idle": "2021-01-19T22:23:08.121986Z",
     "shell.execute_reply": "2021-01-19T22:23:08.121337Z"
    }
   },
   "outputs": [],
   "source": [
    "def read_cluster_texts(node, base_path):\n",
    "    year, cluster = node.split('_')\n",
    "    with open(f'{base_path}12_cluster_texts/{year}_0-0_1-0_-1_a-infomap_n100_m1-0_s0_c1000/community_{cluster}.txt') as f:\n",
    "        return f.read()"
   ]
  },
  {
   "cell_type": "code",
   "execution_count": 4,
   "metadata": {
    "execution": {
     "iopub.execute_input": "2021-01-19T22:23:08.127395Z",
     "iopub.status.busy": "2021-01-19T22:23:08.126427Z",
     "iopub.status.idle": "2021-01-19T22:23:08.128813Z",
     "shell.execute_reply": "2021-01-19T22:23:08.129425Z"
    }
   },
   "outputs": [],
   "source": [
    "def process_cluster_familie(clusters, base_path):\n",
    "    doc = ' '.join(\n",
    "        read_cluster_texts(c, base_path) \n",
    "        for c in clusters\n",
    "    )\n",
    "    return simple_preprocess(doc)"
   ]
  },
  {
   "cell_type": "code",
   "execution_count": 5,
   "metadata": {
    "execution": {
     "iopub.execute_input": "2021-01-19T22:23:08.138898Z",
     "iopub.status.busy": "2021-01-19T22:23:08.138025Z",
     "iopub.status.idle": "2021-01-19T22:23:08.140429Z",
     "shell.execute_reply": "2021-01-19T22:23:08.141054Z"
    }
   },
   "outputs": [],
   "source": [
    "def compute_tfidf_csv(dataset):\n",
    "    base_path = f'../../legal-networks-data/{dataset}/'\n",
    "    cluster_families_data, leading_clusters = load_cluster_families(base_path)\n",
    "    \n",
    "    dictionary = corpora.Dictionary()\n",
    "    \n",
    "    BoW_corpus = []\n",
    "    \n",
    "    for i, c in enumerate(cluster_families_data):\n",
    "        doc = process_cluster_familie(c, base_path)\n",
    "    \n",
    "        bow =  dictionary.doc2bow(doc, allow_update=True)\n",
    "        BoW_corpus.append(bow)\n",
    "        print('done', i)\n",
    "        \n",
    "    tfidf = models.TfidfModel(BoW_corpus, smartirs='ntc')\n",
    "    data = [\n",
    "        {dictionary[key]: freq for key, freq in doc}\n",
    "        for doc in tfidf[BoW_corpus]\n",
    "    ]\n",
    "    data_sorted = [\n",
    "        sorted([x for x in cluster_family.items()], key=lambda y: y[-1], reverse=True)\n",
    "        for cluster_family in data\n",
    "    ]\n",
    "    df = pd.DataFrame({\n",
    "        leading: [word for word, cnt in fam_data[:250]]\n",
    "        for leading, fam_data in zip(leading_clusters, data_sorted)\n",
    "    })\n",
    "    df.to_csv(f'../results/tfidf_cluster_family_inspection_{dataset}.csv')"
   ]
  },
  {
   "cell_type": "code",
   "execution_count": 6,
   "metadata": {
    "execution": {
     "iopub.execute_input": "2021-01-19T22:23:08.145913Z",
     "iopub.status.busy": "2021-01-19T22:23:08.145077Z",
     "iopub.status.idle": "2021-01-20T00:25:32.584559Z",
     "shell.execute_reply": "2021-01-20T00:25:32.589840Z"
    }
   },
   "outputs": [
    {
     "name": "stdout",
     "output_type": "stream",
     "text": [
      "done 0\n",
      "done 1\n",
      "done 2\n",
      "done 3\n",
      "done 4\n",
      "done 5\n",
      "done 6\n",
      "done 7\n",
      "done 8\n",
      "done 9\n",
      "done 10\n",
      "done 11\n",
      "done 12\n",
      "done 13\n",
      "done 14\n",
      "done 15\n",
      "done 16\n",
      "done 17\n",
      "done 18\n",
      "done 19\n",
      "done 20\n",
      "done 21\n",
      "done 22\n",
      "done 23\n",
      "done 24\n",
      "done 25\n",
      "done 26\n",
      "done 27\n",
      "done 28\n",
      "done 29\n",
      "done 30\n",
      "done 31\n",
      "done 32\n",
      "done 33\n",
      "done 34\n",
      "done 35\n",
      "done 36\n",
      "done 37\n",
      "done 38\n",
      "done 39\n",
      "done 40\n",
      "done 41\n",
      "done 42\n",
      "done 43\n",
      "done 44\n",
      "done 45\n",
      "done 46\n",
      "done 47\n",
      "done 48\n",
      "done 49\n"
     ]
    }
   ],
   "source": [
    "compute_tfidf_csv('us_reg')"
   ]
  },
  {
   "cell_type": "code",
   "execution_count": 7,
   "metadata": {
    "execution": {
     "iopub.execute_input": "2021-01-20T00:25:32.661871Z",
     "iopub.status.busy": "2021-01-20T00:25:32.660112Z",
     "iopub.status.idle": "2021-01-20T00:33:50.997402Z",
     "shell.execute_reply": "2021-01-20T00:33:50.998060Z"
    }
   },
   "outputs": [
    {
     "name": "stdout",
     "output_type": "stream",
     "text": [
      "done 0\n",
      "done 1\n",
      "done 2\n",
      "done 3\n",
      "done 4\n",
      "done 5\n",
      "done 6\n",
      "done 7\n",
      "done 8\n",
      "done 9\n",
      "done 10\n",
      "done 11\n",
      "done 12\n",
      "done 13\n",
      "done 14\n",
      "done 15\n",
      "done 16\n",
      "done 17\n",
      "done 18\n",
      "done 19\n",
      "done 20\n",
      "done 21\n",
      "done 22\n",
      "done 23\n",
      "done 24\n",
      "done 25\n",
      "done 26\n",
      "done 27\n",
      "done 28\n",
      "done 29\n",
      "done 30\n",
      "done 31\n",
      "done 32\n",
      "done 33\n",
      "done 34\n",
      "done 35\n",
      "done 36\n",
      "done 37\n",
      "done 38\n",
      "done 39\n",
      "done 40\n",
      "done 41\n",
      "done 42\n",
      "done 43\n",
      "done 44\n",
      "done 45\n",
      "done 46\n",
      "done 47\n",
      "done 48\n",
      "done 49\n"
     ]
    }
   ],
   "source": [
    "compute_tfidf_csv('de_reg')"
   ]
  }
 ],
 "metadata": {
  "kernelspec": {
   "display_name": "Python 3",
   "language": "python",
   "name": "python3"
  },
  "language_info": {
   "codemirror_mode": {
    "name": "ipython",
    "version": 3
   },
   "file_extension": ".py",
   "mimetype": "text/x-python",
   "name": "python",
   "nbconvert_exporter": "python",
   "pygments_lexer": "ipython3",
   "version": "3.8.7"
  }
 },
 "nbformat": 4,
 "nbformat_minor": 4
}
