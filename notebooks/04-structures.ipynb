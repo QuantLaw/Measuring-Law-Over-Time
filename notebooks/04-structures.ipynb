{
 "cells": [
  {
   "cell_type": "markdown",
   "metadata": {},
   "source": [
    "# Results section 2: connectivity\n",
    "## Micro-level connectivity"
   ]
  },
  {
   "cell_type": "markdown",
   "metadata": {},
   "source": [
    "### Preparations"
   ]
  },
  {
   "cell_type": "code",
   "execution_count": 1,
   "metadata": {
    "execution": {
     "iopub.execute_input": "2021-03-07T12:46:08.836567Z",
     "iopub.status.busy": "2021-03-07T12:46:08.835671Z",
     "iopub.status.idle": "2021-03-07T12:46:08.838820Z",
     "shell.execute_reply": "2021-03-07T12:46:08.839343Z"
    }
   },
   "outputs": [],
   "source": [
    "%run fix_notebook_imports.py"
   ]
  },
  {
   "cell_type": "code",
   "execution_count": 2,
   "metadata": {
    "execution": {
     "iopub.execute_input": "2021-03-07T12:46:08.843644Z",
     "iopub.status.busy": "2021-03-07T12:46:08.842951Z",
     "iopub.status.idle": "2021-03-07T12:46:09.139278Z",
     "shell.execute_reply": "2021-03-07T12:46:09.139934Z"
    }
   },
   "outputs": [],
   "source": [
    "import pandas as pd\n",
    "from tabulate import tabulate\n",
    "\n",
    "from analysis.statics import COUNTRIES"
   ]
  },
  {
   "cell_type": "markdown",
   "metadata": {},
   "source": [
    "### Star statistics for 1998 and 2019"
   ]
  },
  {
   "cell_type": "code",
   "execution_count": 3,
   "metadata": {
    "execution": {
     "iopub.execute_input": "2021-03-07T12:46:09.148975Z",
     "iopub.status.busy": "2021-03-07T12:46:09.148264Z",
     "iopub.status.idle": "2021-03-07T12:46:09.202330Z",
     "shell.execute_reply": "2021-03-07T12:46:09.202918Z"
    }
   },
   "outputs": [],
   "source": [
    "for country in COUNTRIES:\n",
    "    df1998 = pd.read_csv(f\"../results/stars-{country}-1998.csv\")\n",
    "    df2019 = pd.read_csv(f\"../results/stars-{country}-2019.csv\")\n",
    "    \n",
    "    df1998 = df1998.groupby(['type','document_type']).count(\n",
    "    )[['n']].reset_index().pivot(index='type',columns='document_type',values='n').fillna(0).astype(int).loc[['Sink','Hinge','Source']][['statute','regulation']\n",
    "    ].rename(dict(statute='statute_1998',regulation='regulation_1998'), axis=1)\n",
    "    \n",
    "    df2019 = df2019.groupby(['type','document_type']).count(\n",
    "    )[['n']].reset_index().pivot(index='type',columns='document_type',values='n').fillna(0).astype(int).loc[['Sink','Hinge','Source']][['statute','regulation']\n",
    "    ].rename(dict(statute='statute_2019',regulation='regulation_2019'), axis=1)\n",
    "    \n",
    "    with open(f\"../graphics/star-statistics-{country}.tex\", \"w\") as f:\n",
    "        f.write(tabulate(pd.concat([df1998,df2019], axis=1), tablefmt='latex_raw', \n",
    "                         headers=['','S-Hub/1998','R-Hub/1998','S-Hub/2019','R-Hub/2019'],stralign='right'))"
   ]
  },
  {
   "cell_type": "markdown",
   "metadata": {},
   "source": [
    "### The end."
   ]
  }
 ],
 "metadata": {
  "kernelspec": {
   "display_name": "Python 3",
   "language": "python",
   "name": "python3"
  },
  "language_info": {
   "codemirror_mode": {
    "name": "ipython",
    "version": 3
   },
   "file_extension": ".py",
   "mimetype": "text/x-python",
   "name": "python",
   "nbconvert_exporter": "python",
   "pygments_lexer": "ipython3",
   "version": "3.8.7"
  }
 },
 "nbformat": 4,
 "nbformat_minor": 4
}
