{
 "cells": [
  {
   "cell_type": "markdown",
   "metadata": {},
   "source": [
    "# Results section 1: growth\n",
    "## Basic statistics and degree distributions"
   ]
  },
  {
   "cell_type": "markdown",
   "metadata": {},
   "source": [
    "### Preparations"
   ]
  },
  {
   "cell_type": "code",
   "execution_count": 1,
   "metadata": {
    "execution": {
     "iopub.execute_input": "2021-03-07T12:43:14.837870Z",
     "iopub.status.busy": "2021-03-07T12:43:14.836685Z",
     "iopub.status.idle": "2021-03-07T12:43:14.840536Z",
     "shell.execute_reply": "2021-03-07T12:43:14.841055Z"
    }
   },
   "outputs": [],
   "source": [
    "%run fix_notebook_imports.py"
   ]
  },
  {
   "cell_type": "code",
   "execution_count": 2,
   "metadata": {
    "execution": {
     "iopub.execute_input": "2021-03-07T12:43:14.846165Z",
     "iopub.status.busy": "2021-03-07T12:43:14.845262Z",
     "iopub.status.idle": "2021-03-07T12:43:16.131027Z",
     "shell.execute_reply": "2021-03-07T12:43:16.131650Z"
    }
   },
   "outputs": [],
   "source": [
    "from matplotlib.lines import Line2D\n",
    "import matplotlib.pyplot as plt\n",
    "import numpy as np\n",
    "import pandas as pd\n",
    "import powerlaw\n",
    "import seaborn as sns\n",
    "\n",
    "from analysis.utils import get_crossreference_path\n",
    "from analysis.statics import YEARS, COUNTRIES\n",
    "from analysis._01_basic_statistics import get_networkx_graph_components, get_node_and_edge_files"
   ]
  },
  {
   "cell_type": "code",
   "execution_count": 3,
   "metadata": {
    "execution": {
     "iopub.execute_input": "2021-03-07T12:43:16.138658Z",
     "iopub.status.busy": "2021-03-07T12:43:16.137734Z",
     "iopub.status.idle": "2021-03-07T12:43:16.139897Z",
     "shell.execute_reply": "2021-03-07T12:43:16.140405Z"
    }
   },
   "outputs": [],
   "source": [
    "sns.set_style('whitegrid')\n",
    "plt.rcParams['font.size'] = 12"
   ]
  },
  {
   "cell_type": "code",
   "execution_count": 4,
   "metadata": {
    "execution": {
     "iopub.execute_input": "2021-03-07T12:43:16.177094Z",
     "iopub.status.busy": "2021-03-07T12:43:16.176127Z",
     "iopub.status.idle": "2021-03-07T12:43:16.178508Z",
     "shell.execute_reply": "2021-03-07T12:43:16.179139Z"
    }
   },
   "outputs": [],
   "source": [
    "def plot_point_statistic(xs, country_data, xlabel, ylabel, color=\"k\", marker=\"^\", savepath=None):\n",
    "    plt.rcParams['figure.figsize'] = (9,6)\n",
    "    sns.lineplot(x=xs, y=country_data, color=color, marker=marker, markersize=5)\n",
    "    plt.xticks(xs[::3], fontsize=18)\n",
    "    plt.yticks(fontsize=18)\n",
    "    plt.xlabel(xlabel, fontsize=24)\n",
    "    plt.ylabel(ylabel, fontsize=24)\n",
    "    plt.tight_layout()\n",
    "    if savepath is not None:\n",
    "        plt.savefig(savepath)\n",
    "        plt.close()\n",
    "        \n",
    "def plot_statistics(xs, statistics, xlabel, ylabel, ylim=None, savepath=None):\n",
    "    \"\"\"\n",
    "    expects statistics to be list of (stat, marker, color, linestyle, label) tuples\n",
    "    :param xs: \n",
    "    :param statistics: \n",
    "    :param xlabel: \n",
    "    :param ylabel: \n",
    "    :param savepath: \n",
    "    :return: \n",
    "    \"\"\"\n",
    "\n",
    "    plt.rcParams['figure.figsize'] = (9,6)\n",
    "    for idx, (stat, marker, color, linestyle, label) in enumerate(statistics):\n",
    "        sns.lineplot(x=xs, y=stat, marker=marker, color=color, markersize=7.5)\n",
    "        plt.gca().lines[-1].set_linestyle(linestyle)\n",
    "    plt.xticks(xs[::3], fontsize=24)\n",
    "    plt.yticks(fontsize=24)\n",
    "    if ylim is not None:\n",
    "        plt.ylim(*ylim)\n",
    "    plt.xlabel(xlabel, fontsize=24)\n",
    "    plt.ylabel(ylabel, fontsize=24)\n",
    "    plt.tight_layout()\n",
    "    plt.legend([stat[-1] for stat in statistics], loc='upper left', fontsize=18)\n",
    "    if savepath is not None:\n",
    "        plt.savefig(savepath)\n",
    "        plt.close()\n",
    "        \n",
    "def plot_statistics_with_subplots(xs, statistics, xlabel, ylabel, ylim=None, savepath=None):\n",
    "    _, ax = plt.subplots(1, 2, figsize=(9*2,6), sharex=True, sharey=False)\n",
    "    for idx, (stat, marker, color, linestyle, label) in enumerate(statistics):\n",
    "        cax = ax[0] if color == 'k' else ax[1]\n",
    "        sns.lineplot(x=xs, y=stat, marker=marker, color=color, markersize=7.5, ax=cax)\n",
    "        cax.lines[-1].set_linestyle(linestyle)\n",
    "        plt.sca(cax)\n",
    "        plt.xticks(xs[::3], fontsize=24)\n",
    "        plt.yticks(fontsize=24)\n",
    "        if ylim is not None:\n",
    "            plt.ylim(*ylim)\n",
    "            plt.yticks(np.arange(0.8,ylim[-1]+0.01,0.2), fontsize=24)\n",
    "        plt.xlabel(xlabel, fontsize=24)\n",
    "        plt.ylabel(ylabel, fontsize=24)\n",
    "    for idx,color in enumerate(['k','b']):\n",
    "        plt.sca(ax[idx])\n",
    "        plt.legend([stat[-1] for stat in statistics if stat[2] == color], loc='upper left', fontsize=18)\n",
    "    plt.tight_layout()\n",
    "    if savepath is not None:\n",
    "        plt.savefig(savepath)\n",
    "        plt.close()\n",
    "        \n",
    "def get_degree_distributions(countries, years, normalized=False):\n",
    "    distributions = {years[0]:{},years[-1]:{}}\n",
    "    for country in countries:\n",
    "        crossreference_path = get_crossreference_path(country)\n",
    "        nodefiles, edgefiles = get_node_and_edge_files(crossreference_path, years)\n",
    "        for year in distributions.keys():\n",
    "            nodes, edges = get_networkx_graph_components(crossreference_path, nodefiles[years.index(year)], edgefiles[years.index(year)])\n",
    "            edges = edges.join(nodes[[\"document_type\"]], on=\"u\").rename(dict(document_type=\"u_document_type\"), axis=1)\n",
    "            edges = edges.join(nodes[[\"document_type\"]], on=\"v\").rename(dict(document_type=\"v_document_type\"), axis=1)\n",
    "            sta_out = nodes.join(edges.query(\"edge_type == 'reference' and u_document_type == 'statute' and v_document_type == 'statute'\"\n",
    "                                            ).groupby('u').count())[['v']].fillna(0)['v'].values\n",
    "            reg_out = data = nodes.join(edges.query(\"edge_type == 'reference' and u_document_type == 'regulation' and v_document_type == 'regulation'\"\n",
    "                                                   ).groupby('u').count())[['v']].fillna(0)['v'].values\n",
    "            all_out = nodes.join(edges.query(\"edge_type == 'reference'\").groupby('u').count())[['v']].fillna(0)['v'].values\n",
    "            sta_in = nodes.join(edges.query(\"edge_type == 'reference' and u_document_type == 'statute' and v_document_type == 'statute'\"\n",
    "                                           ).groupby('v').count())[['u']].fillna(0)['u'].values\n",
    "            reg_in = nodes.join(edges.query(\"edge_type == 'reference' and u_document_type == 'regulation' and v_document_type == 'regulation'\"\n",
    "                                           ).groupby('v').count())[['u']].fillna(0)['u'].values\n",
    "            all_in = nodes.join(edges.query(\"edge_type == 'reference'\").groupby('v').count())[['u']].fillna(0)['u'].values\n",
    "            if normalized:\n",
    "                sta_out = sta_out / nodes['tokens_n'].replace(0, np.finfo(float).eps).values\n",
    "                reg_out = reg_out / nodes['tokens_n'].replace(0, np.finfo(float).eps).values\n",
    "                all_out = all_out / nodes['tokens_n'].replace(0, np.finfo(float).eps).values\n",
    "                sta_in = sta_in / nodes['tokens_n'].replace(0, np.finfo(float).eps).values\n",
    "                reg_in = reg_in / nodes['tokens_n'].replace(0, np.finfo(float).eps).values\n",
    "                all_in = all_in / nodes['tokens_n'].replace(0, np.finfo(float).eps).values\n",
    "            distributions[year][country] = dict(sta_out=sta_out,reg_out=reg_out,all_out=all_out,sta_in=sta_in,reg_in=reg_in,all_in=all_in,\n",
    "                                                tokens_n=nodes.tokens_n.values, key=nodes.index.values, \n",
    "                                               )\n",
    "    df1 = pd.DataFrame.from_dict(distributions[years[0]])\n",
    "    df2 = pd.DataFrame.from_dict(distributions[years[-1]])\n",
    "    return df1, df2\n",
    "    \n",
    "def plot_ccdfs(df1, df2, year1, year2, country, degtype, normalized=False, save_path=None):\n",
    "    custom_lines = [Line2D([0], [0], color='b', lw=6), Line2D([0], [0], color='r', lw=6)]\n",
    "    custom_lines2 = [Line2D([0], [0], color='k', lw=3,linestyle='--'),\n",
    "                     Line2D([0], [0], color='k', lw=3, linestyle=':'),\n",
    "                     Line2D([0], [0], color='k', lw=3, linestyle='-')]\n",
    "    fig, ax = plt.subplots(figsize=(12,9))\n",
    "    powerlaw.plot_ccdf(df1.at[f'sta_{degtype}',country], color='b', ax=ax, linestyle='--', lw=2)\n",
    "    powerlaw.plot_ccdf(df1.at[f'reg_{degtype}',country], color='b', ax=ax, linestyle=':', lw=2)\n",
    "    powerlaw.plot_ccdf(df1.at[f'all_{degtype}',country], color='b', ax=ax, linestyle='-', lw=2)\n",
    "    powerlaw.plot_ccdf(df2.at[f'sta_{degtype}',country], color='r', ax=ax, linestyle='--', lw=2)\n",
    "    powerlaw.plot_ccdf(df2.at[f'reg_{degtype}',country], color='r', ax=ax, linestyle=':', lw=2)\n",
    "    powerlaw.plot_ccdf(df2.at[f'all_{degtype}',country], color='r', ax=ax, linestyle='-', lw=2)\n",
    "    ax.set_xscale('log', basex=2)\n",
    "    ax.set_yscale('log', basey=2)\n",
    "    if not normalized:\n",
    "        plt.xlim(2**-0.5,2**12.5)\n",
    "        plt.xticks([2**x for x in range(13)],fontsize=24)\n",
    "        plt.ylim(2**-22,2**1.25)\n",
    "        plt.yticks([2**(x) for x in range(-22,1,2)],fontsize=24)\n",
    "    else:\n",
    "        if country != 'us' or degtype != 'in':\n",
    "            plt.xlim(2**-15,2**3)\n",
    "            plt.ylim(2**-22,2**0)\n",
    "            plt.xticks([2**x for x in range(-15,4)],fontsize=24)\n",
    "            plt.yticks([2**(x) for x in range(-22,1,2)],fontsize=24)\n",
    "        else:\n",
    "            plt.xticks(fontsize=24)\n",
    "            plt.yticks(fontsize=24)\n",
    "        \n",
    "    plt.xlabel(f\"{degtype.capitalize()}-Degree\", fontsize=24)\n",
    "    plt.ylabel(\"Fraction of sections with at least the given degree\", fontsize=24)\n",
    "    legend = plt.legend(custom_lines, [year1, year2], loc=\"upper left\", fontsize=18)\n",
    "    legend2 = plt.legend(custom_lines2, ['Statutes only','Regulations only', 'All'], loc=\"upper right\", fontsize=18)\n",
    "    ax.add_artist(legend)\n",
    "    ax.add_artist(legend2)\n",
    "    plt.tight_layout()\n",
    "    if save_path is not None:\n",
    "        plt.savefig(save_path)\n",
    "        plt.close()"
   ]
  },
  {
   "cell_type": "markdown",
   "metadata": {},
   "source": [
    "### Basic statistics"
   ]
  },
  {
   "cell_type": "code",
   "execution_count": 5,
   "metadata": {
    "execution": {
     "iopub.execute_input": "2021-03-07T12:43:16.188248Z",
     "iopub.status.busy": "2021-03-07T12:43:16.187525Z",
     "iopub.status.idle": "2021-03-07T12:43:18.180368Z",
     "shell.execute_reply": "2021-03-07T12:43:18.181201Z"
    }
   },
   "outputs": [],
   "source": [
    "for country in COUNTRIES:\n",
    "    crossreference_path = get_crossreference_path(country)\n",
    "    df = pd.read_csv(f\"../results/basic-statistics-{country}.csv\")\n",
    "    plot_statistics_with_subplots(YEARS, [(df.tokens_n_rel_sta, 'o', 'k', '-', 'Statute Tokens'),\n",
    "                        (df.tokens_n_rel_reg, 'o', 'b', '-', 'Regulation Tokens'),\n",
    "                        (df.structures_rel_sta_ssi, '^', 'k', '--', 'Statute Structural Elements'), \n",
    "                        (df.structures_rel_reg_ssi, '^', 'b', '--', 'Regulation Structural Elements'),\n",
    "                        (df.crossrefs_n_rel_sta, 'v', 'k', ':', 'Intra-Statute References'),         \n",
    "                        (df.crossrefs_n_rel_reg, 'v', 'b', ':', 'Intra-Regulation References'),\n",
    "                        ], \n",
    "                'Year', f'Growth relative to {YEARS[0]} baseline',\n",
    "                ylim=(0.95,2.7),\n",
    "                savepath=f'../graphics/growth-statistics-comparison-separated-{country}.pdf'\n",
    "               )\n",
    "    plot_statistics(YEARS, [(df.tokens_n_rel_sta, 'o', 'k', '-', 'Statute Tokens'),\n",
    "                        (df.tokens_n_rel_reg, 'o', 'b', '-', 'Regulation Tokens'),\n",
    "                        (df.structures_rel_sta_ssi, '^', 'k', '--', 'Statute Structural Elements'), \n",
    "                        (df.structures_rel_reg_ssi, '^', 'b', '--', 'Regulation Structural Elements'), \n",
    "                        (df.crossrefs_n_rel_sta, 'v', 'k', ':', 'Intra-Statute References'),         \n",
    "                        (df.crossrefs_n_rel_reg, 'v', 'b', ':', 'Intra-Regulation References'),\n",
    "                        ], \n",
    "                'Year', f'Growth relative to {YEARS[0]} baseline',\n",
    "                ylim=(0.95,2.7),\n",
    "                savepath=f'../graphics/growth-statistics-comparison-combined-{country}.pdf'\n",
    "               )\n",
    "    plot_statistics(YEARS, [(df.crossrefs_n_rel_sta, 'v', 'k', ':', 'Statute → Statute'),\n",
    "                        (df.crossrefs_n_rel_reg, 'v', 'b', ':', 'Regulation → Regulation'),\n",
    "                        (df.crossrefs_n_rel_reg_sta, 'v', 'dodgerblue', ':', 'Regulation → Statute')\n",
    "                       ], \n",
    "                'Year', f'Growth relative to {YEARS[0]} baseline',\n",
    "                ylim=(0.95,2.7),\n",
    "                savepath=f'../graphics/reference-statistics-comparison-{country}.pdf'\n",
    "               )"
   ]
  },
  {
   "cell_type": "markdown",
   "metadata": {},
   "source": [
    "### Degree distributions"
   ]
  },
  {
   "cell_type": "code",
   "execution_count": 6,
   "metadata": {
    "execution": {
     "iopub.execute_input": "2021-03-07T12:43:18.186553Z",
     "iopub.status.busy": "2021-03-07T12:43:18.185781Z",
     "iopub.status.idle": "2021-03-07T12:44:17.396799Z",
     "shell.execute_reply": "2021-03-07T12:44:17.397365Z"
    }
   },
   "outputs": [],
   "source": [
    "df1, df2 = get_degree_distributions(COUNTRIES, YEARS, normalized=False)\n",
    "for country in COUNTRIES:\n",
    "    for degtype in [\"in\", \"out\"]:\n",
    "        plot_ccdfs(df1, df2, YEARS[0], YEARS[-1], country, degtype, normalized=False, save_path=f\"../graphics/{degtype}-degree-{country}-{YEARS[0]}-{YEARS[-1]}.pdf\")"
   ]
  },
  {
   "cell_type": "code",
   "execution_count": 7,
   "metadata": {
    "execution": {
     "iopub.execute_input": "2021-03-07T12:44:17.403775Z",
     "iopub.status.busy": "2021-03-07T12:44:17.402841Z",
     "iopub.status.idle": "2021-03-07T12:45:17.672433Z",
     "shell.execute_reply": "2021-03-07T12:45:17.672958Z"
    }
   },
   "outputs": [],
   "source": [
    "df1, df2 = get_degree_distributions(COUNTRIES, YEARS, normalized=True)\n",
    "for country in COUNTRIES:\n",
    "    for degtype in [\"in\", \"out\"]:\n",
    "        plot_ccdfs(df1, df2, YEARS[0], YEARS[-1], country, degtype, normalized=True, save_path=f\"../graphics/{degtype}-degree-{country}-{YEARS[0]}-{YEARS[-1]}-normalized.pdf\")"
   ]
  },
  {
   "cell_type": "markdown",
   "metadata": {},
   "source": [
    "### The end."
   ]
  }
 ],
 "metadata": {
  "kernelspec": {
   "display_name": "Python 3",
   "language": "python",
   "name": "python3"
  },
  "language_info": {
   "codemirror_mode": {
    "name": "ipython",
    "version": 3
   },
   "file_extension": ".py",
   "mimetype": "text/x-python",
   "name": "python",
   "nbconvert_exporter": "python",
   "pygments_lexer": "ipython3",
   "version": "3.8.7"
  }
 },
 "nbformat": 4,
 "nbformat_minor": 4
}
